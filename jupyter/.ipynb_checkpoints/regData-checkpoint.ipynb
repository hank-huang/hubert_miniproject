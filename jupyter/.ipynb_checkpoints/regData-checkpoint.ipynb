{
 "cells": [
  {
   "cell_type": "code",
   "execution_count": 1,
   "metadata": {},
   "outputs": [
    {
     "name": "stdout",
     "output_type": "stream",
     "text": [
      "Populating the interactive namespace from numpy and matplotlib\n"
     ]
    }
   ],
   "source": [
    "import pandas as pd\n",
    "import matplotlib.pyplot as plt\n",
    "%pylab inline"
   ]
  },
  {
   "cell_type": "markdown",
   "metadata": {},
   "source": [
    "### Helper Methods"
   ]
  },
  {
   "cell_type": "code",
   "execution_count": 2,
   "metadata": {},
   "outputs": [],
   "source": [
    "from sklearn.metrics import balanced_accuracy_score\n",
    "from sklearn.metrics import classification_report\n",
    "from sklearn.metrics import roc_curve, auc\n",
    "import seaborn as sns\n",
    "sns.set()\n",
    "\n",
    "def corrPlot(df):\n",
    "    sns.set(rc={'figure.figsize':(11.7,8.27)})\n",
    "    corr = df.corr()\n",
    "    sns.heatmap(corr, \n",
    "        xticklabels=corr.columns,\n",
    "        yticklabels=corr.columns)\n",
    "\n",
    "def getReport(predictions, flag):\n",
    "    if flag == 'test':\n",
    "        theDf = target_test\n",
    "    elif flag == 'val':\n",
    "        theDf = target_val\n",
    "    print(\"Balanced_Accuracy:\", balanced_accuracy_score(theDf, predictions))\n",
    "    print(classification_report(theDf, predictions))\n",
    "    \n",
    "def plotROC(model, flag):\n",
    "    if flag == 'test':\n",
    "        features = features_test\n",
    "        target = target_test\n",
    "    elif flag == 'val':\n",
    "        features = features_val\n",
    "        target = target_val\n",
    "        \n",
    "    probabilities = model.predict_proba(features)\n",
    "    preds = probabilities[:,1]\n",
    "    fpr, tpr, threshold = roc_curve(target, preds)\n",
    "    roc_auc = auc(fpr, tpr)\n",
    "    \n",
    "    plt.title('ROC Curve')\n",
    "    plt.plot(fpr, tpr, 'b', label = 'AUC = %0.2f' % roc_auc)\n",
    "    plt.legend(loc = 'lower right')\n",
    "    plt.plot([0, 1], [0, 1],'r--')\n",
    "    plt.xlim([0, 1])\n",
    "    plt.ylim([0, 1])\n",
    "    plt.ylabel('True Positive Rate')\n",
    "    plt.xlabel('False Positive Rate')\n",
    "    plt.xticks([])\n",
    "    plt.yticks([])\n",
    "        \n",
    "    return plt"
   ]
  },
  {
   "cell_type": "markdown",
   "metadata": {},
   "source": [
    "### Reading in Data"
   ]
  },
  {
   "cell_type": "code",
   "execution_count": 3,
   "metadata": {},
   "outputs": [],
   "source": [
    "features = pd.read_csv('../datFiles/features.csv', index_col = 0)\n",
    "target = pd.read_csv('../datFiles/target.csv', index_col = 0, header = None, squeeze = True)"
   ]
  },
  {
   "cell_type": "code",
   "execution_count": 4,
   "metadata": {},
   "outputs": [],
   "source": [
    "#corrPlot(features)\n",
    "#savefig('../images/corrPlot.png')"
   ]
  },
  {
   "cell_type": "markdown",
   "metadata": {},
   "source": [
    "###  Data Manipulation"
   ]
  },
  {
   "cell_type": "code",
   "execution_count": 5,
   "metadata": {},
   "outputs": [],
   "source": [
    "from sklearn.preprocessing import StandardScaler\n",
    "from sklearn.preprocessing import Normalizer\n",
    "\n",
    "features = features.values\n",
    "#features = Normalizer().fit_transform(features)\n",
    "#features = StandardScaler().fit_transform(features)\n"
   ]
  },
  {
   "cell_type": "code",
   "execution_count": 6,
   "metadata": {},
   "outputs": [],
   "source": [
    "from sklearn.model_selection import train_test_split\n",
    "features_train, features_test, target_train, target_test = train_test_split(features, target, test_size=0.1, random_state=0, )\n",
    "features_train, features_val, target_train, target_val = train_test_split(features_train, target_train, test_size = 0.2, random_state = 0)"
   ]
  },
  {
   "cell_type": "markdown",
   "metadata": {},
   "source": [
    "### Logistic Regression"
   ]
  },
  {
   "cell_type": "code",
   "execution_count": null,
   "metadata": {},
   "outputs": [],
   "source": [
    "from sklearn.linear_model import LogisticRegression\n",
    "from sklearn.model_selection import GridSearchCV\n",
    "\n",
    "\n",
    "logit = LogisticRegression(solver='liblinear', max_iter=500)\n",
    "\n",
    "# best_logit = LogisticRegression(C=10, class_weight=None, dual=False, fit_intercept=True,\n",
    "#           intercept_scaling=0.0001, max_iter=500, multi_class='warn',\n",
    "#           n_jobs=None, penalty='l1', random_state=None, solver='liblinear',\n",
    "#           tol=0.0001, verbose=0, warm_start=False)\n",
    "\n",
    "penalties = ['l1', 'l2']\n",
    "tols = [1e-2, 1e-3, 1e-4]\n",
    "costs = [0.001, 0.01, 0.1, 1, 5, 10]\n",
    "intercepts = [0.0001, 0.001, 0.1, 1]\n",
    "fit_intercepts = [True, False]\n",
    "classWeights = [None, 'balanced']\n",
    "\n",
    "params_logit = {'C': costs, 'penalty': penalties, 'tol': tols, \n",
    "                'fit_intercept': fit_intercepts, 'class_weight': classWeights, \n",
    "                'intercept_scaling': intercepts}\n",
    "\n",
    "\n",
    "gs_logit = GridSearchCV(logit, params_logit, cv=10)\n",
    "\n",
    "gs_logit.fit(features_train, target_train)\n",
    "\n",
    "best_logit = gs_logit.best_estimator_"
   ]
  },
  {
   "cell_type": "code",
   "execution_count": null,
   "metadata": {},
   "outputs": [],
   "source": [
    "predictions = best_logit.predict(features_val)\n",
    "getReport(predictions, 'val')\n",
    "plotROC(best_logit, 'val')\n",
    "savefig('../images/logit/reg_val.png')"
   ]
  },
  {
   "cell_type": "markdown",
   "metadata": {},
   "source": [
    "### LDA"
   ]
  },
  {
   "cell_type": "code",
   "execution_count": null,
   "metadata": {},
   "outputs": [],
   "source": [
    "from sklearn.discriminant_analysis import LinearDiscriminantAnalysis\n",
    "from sklearn.model_selection import GridSearchCV\n",
    "\n",
    "lda = LinearDiscriminantAnalysis()\n",
    "\n",
    "std_best_lda = LinearDiscriminantAnalysis(n_components=0, priors=None, shrinkage='auto',\n",
    "              solver='lsqr', store_covariance=False, tol=0.001)\n",
    "\n",
    "solvers = ['lsqr']\n",
    "shrinkages = [None, 'auto']\n",
    "tols = [1e-3, 1e-4, 1e-5]\n",
    "components = [0,1]\n",
    "\n",
    "params_lda = {'solver': solvers,'shrinkage': shrinkages, 'tol': tols, 'n_components':components}\n",
    "\n",
    "gs_lda = GridSearchCV(lda, params_lda, cv=10)\n",
    "gs_lda.fit(features_train, target_train)"
   ]
  },
  {
   "cell_type": "code",
   "execution_count": null,
   "metadata": {},
   "outputs": [],
   "source": [
    "gs_lda.best_estimator_"
   ]
  },
  {
   "cell_type": "code",
   "execution_count": null,
   "metadata": {},
   "outputs": [],
   "source": [
    "predictions = gs_lda.predict(features_val)\n",
    "getReport(predictions, 'val')\n",
    "plotROC(gs_lda, 'val')\n",
    "savefig('../images/lda/reg_val.png')"
   ]
  },
  {
   "cell_type": "markdown",
   "metadata": {},
   "source": [
    "### KNN"
   ]
  },
  {
   "cell_type": "code",
   "execution_count": null,
   "metadata": {},
   "outputs": [],
   "source": [
    "from sklearn.neighbors import KNeighborsClassifier\n",
    "from sklearn.model_selection import GridSearchCV\n",
    "\n",
    "std_best_knn = KNeighborsClassifier(algorithm='ball_tree', leaf_size=30, metric='minkowski',\n",
    "           metric_params=None, n_jobs=None, n_neighbors=1, p=2,\n",
    "           weights='uniform')\n",
    "\n",
    "\n",
    "knn = KNeighborsClassifier()\n",
    "\n",
    "neighbors = [1,3,5,7,9]\n",
    "weights = ['uniform', 'distance']\n",
    "algo = ['ball_tree', 'kd_tree', 'brute']\n",
    "\n",
    "params_knn = {'n_neighbors': neighbors, 'weights': weights, 'algorithm': algo}\n",
    "gs_knn = GridSearchCV(knn, params_knn, cv=10)\n",
    "\n",
    "gs_knn.fit(features_train, target_train)"
   ]
  },
  {
   "cell_type": "code",
   "execution_count": null,
   "metadata": {},
   "outputs": [],
   "source": [
    "gs_knn.best_estimator_"
   ]
  },
  {
   "cell_type": "code",
   "execution_count": null,
   "metadata": {},
   "outputs": [],
   "source": [
    "predictions = gs_knn.predict(features_val)\n",
    "getReport(predictions, 'val')\n",
    "plotROC(gs_knn, 'val')\n",
    "savefig('../images/knn/reg_val.png')"
   ]
  },
  {
   "cell_type": "markdown",
   "metadata": {},
   "source": [
    "### RF"
   ]
  },
  {
   "cell_type": "code",
   "execution_count": null,
   "metadata": {},
   "outputs": [],
   "source": [
    "from sklearn.ensemble import RandomForestClassifier\n",
    "from sklearn.model_selection import GridSearchCV\n",
    "\n",
    "std_best_rf = RandomForestClassifier(bootstrap=True, class_weight=None, criterion='gini',\n",
    "            max_depth=20, max_features='auto', max_leaf_nodes=None,\n",
    "            min_impurity_decrease=0.0, min_impurity_split=None,\n",
    "            min_samples_leaf=1, min_samples_split=2,\n",
    "            min_weight_fraction_leaf=0.0, n_estimators=25, n_jobs=None,\n",
    "            oob_score=False, random_state=0, verbose=0, warm_start=False)\n",
    "\n",
    "rf = RandomForestClassifier(random_state=0)\n",
    "\n",
    "num_trees = [10, 15, 20, 25, 30, 40, 50]\n",
    "criterion = ['gini']\n",
    "max_depth = [10, 20, 30]\n",
    "min_samples_leaf = [1,2,3,4]\n",
    "min_samples_split = [1,2,3,4]\n",
    "\n",
    "params_rf = {'n_estimators': num_trees, 'criterion': criterion, 'max_depth': max_depth}\n",
    "gs_rf = GridSearchCV(rf, params_rf, cv=10)\n",
    "\n",
    "gs_rf.fit(features_train, target_train)\n",
    "gs_rf.best_estimator_"
   ]
  },
  {
   "cell_type": "code",
   "execution_count": null,
   "metadata": {},
   "outputs": [],
   "source": [
    "predictions = gs_rf.predict(features_val)\n",
    "getReport(predictions, 'val')\n",
    "plotROC(gs_rf, 'val')\n",
    "savefig('../images/rf/reg_val.png')"
   ]
  },
  {
   "cell_type": "markdown",
   "metadata": {},
   "source": [
    "### NN"
   ]
  },
  {
   "cell_type": "code",
   "execution_count": null,
   "metadata": {},
   "outputs": [],
   "source": [
    "from sklearn.neural_network import MLPClassifier\n",
    "from sklearn.model_selection import GridSearchCV\n",
    "\n",
    "std_best_nn = MLPClassifier(activation='logistic', alpha=0.0001, batch_size='auto',\n",
    "       beta_1=0.9, beta_2=0.999, early_stopping=False, epsilon=1e-08,\n",
    "       hidden_layer_sizes=50, learning_rate='constant',\n",
    "       learning_rate_init=0.001, max_iter=200, momentum=0.9,\n",
    "       n_iter_no_change=10, nesterovs_momentum=True, power_t=0.5,\n",
    "       random_state=None, shuffle=True, solver='lbfgs', tol=0.0001,\n",
    "       validation_fraction=0.1, verbose=False, warm_start=False)\n",
    "\n",
    "nn = MLPClassifier(activation='logistic')\n",
    "\n",
    "hidden_layer_sizes = [50, 75, 100, 125, 150]\n",
    "solver = ['lbfgs']\n",
    "alpha = [1e-3, 1e-4, 1e-5]\n",
    "tol = [1e-3, 1e-4, 1e-5]\n",
    "\n",
    "\n",
    "\n",
    "params_nn = {'hidden_layer_sizes': hidden_layer_sizes, 'solver': solver, 'tol': tol}\n",
    "gs_nn = GridSearchCV(nn, params_nn, cv=10)\n",
    "\n",
    "gs_nn.fit(features_train, target_train)"
   ]
  },
  {
   "cell_type": "code",
   "execution_count": null,
   "metadata": {},
   "outputs": [],
   "source": [
    "gs_nn.best_estimator_"
   ]
  },
  {
   "cell_type": "code",
   "execution_count": null,
   "metadata": {},
   "outputs": [],
   "source": [
    "predictions = gs_nn.predict(features_val)\n",
    "getReport(predictions, 'val')\n",
    "plotROC(gs_nn, 'val')\n",
    "savefig('../images/nn/reg_val_nn.png')"
   ]
  },
  {
   "cell_type": "markdown",
   "metadata": {},
   "source": [
    "### SVC"
   ]
  },
  {
   "cell_type": "code",
   "execution_count": null,
   "metadata": {},
   "outputs": [],
   "source": [
    "from sklearn.svm import SVC\n",
    "from sklearn.model_selection import GridSearchCV\n",
    "\n",
    "std_best_svc = SVC(C=0.1, cache_size=200, class_weight=None, coef0=0.0,\n",
    "  decision_function_shape='ovr', degree=3, gamma=0.005, kernel='linear',\n",
    "  max_iter=-1, probability=True, random_state=None, shrinking=True,\n",
    "  tol=0.001, verbose=False)\n",
    "\n",
    "\n",
    "svm = SVC(kernel = 'linear', probability=True)\n",
    "\n",
    "costs = [0.001, 0.01, 0.1, 1, 5, 10, 100]\n",
    "gammas = [0.005,.015, 0.01,0.02,0.03,0.04,0.05]\n",
    "params_svm = {'C': costs, 'gamma' : gammas}\n",
    "\n",
    "gs_svm = GridSearchCV(svm, params_svm, cv=10)\n",
    "\n",
    "gs_svm.fit(features_train, target_train)"
   ]
  },
  {
   "cell_type": "code",
   "execution_count": null,
   "metadata": {},
   "outputs": [],
   "source": [
    "predictions = gs_svm.predict(features_val)\n",
    "getReport(predictions, 'val')\n",
    "plotROC(gs_svm, 'val')\n",
    "#savefig('../images/svc/reg_val_svc_normalized.png')"
   ]
  },
  {
   "cell_type": "markdown",
   "metadata": {},
   "source": [
    "### QDA REMOVE COLLINEAR VARIABLES"
   ]
  },
  {
   "cell_type": "code",
   "execution_count": null,
   "metadata": {},
   "outputs": [],
   "source": [
    "from sklearn.discriminant_analysis import QuadraticDiscriminantAnalysis\n",
    "qda = QuadraticDiscriminantAnalysis()\n",
    "\n",
    "tols = [1e-3, 1e-4, 1e-5]\n",
    "params_qda = {'tol': tols}\n",
    "\n",
    "gs_qda = GridSearchCV(qda, params_qda, cv=10)\n",
    "\n",
    "gs_qda.fit(features_train, target_train)\n",
    "predictions = gs_qda.predict(features_test)"
   ]
  },
  {
   "cell_type": "code",
   "execution_count": null,
   "metadata": {},
   "outputs": [],
   "source": [
    "predictions = gs_qda.predict(features_val)\n",
    "getReport(predictions, 'val')\n",
    "plotROC(gs_qda, 'val')\n",
    "savefig('../images/qda/reg_val.png')"
   ]
  },
  {
   "cell_type": "code",
   "execution_count": null,
   "metadata": {},
   "outputs": [],
   "source": []
  }
 ],
 "metadata": {
  "kernelspec": {
   "display_name": "Python 3",
   "language": "python",
   "name": "python3"
  },
  "language_info": {
   "codemirror_mode": {
    "name": "ipython",
    "version": 3
   },
   "file_extension": ".py",
   "mimetype": "text/x-python",
   "name": "python",
   "nbconvert_exporter": "python",
   "pygments_lexer": "ipython3",
   "version": "3.7.3"
  },
  "toc": {
   "base_numbering": 1,
   "nav_menu": {},
   "number_sections": false,
   "sideBar": false,
   "skip_h1_title": false,
   "title_cell": "Table of Contents",
   "title_sidebar": "Contents",
   "toc_cell": false,
   "toc_position": {},
   "toc_section_display": false,
   "toc_window_display": false
  }
 },
 "nbformat": 4,
 "nbformat_minor": 2
}
