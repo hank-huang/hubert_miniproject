{
 "cells": [
  {
   "cell_type": "code",
   "execution_count": 1,
   "metadata": {},
   "outputs": [],
   "source": [
    "# SVM,OLS, LDA, QDA, KNN, RF, NN\n",
    "#\n",
    "# Balanced Accuracy, Sensitivity, Specificity, F1 Score"
   ]
  },
  {
   "cell_type": "code",
   "execution_count": 2,
   "metadata": {},
   "outputs": [
    {
     "name": "stdout",
     "output_type": "stream",
     "text": [
      "Populating the interactive namespace from numpy and matplotlib\n"
     ]
    }
   ],
   "source": [
    "import pandas as pd\n",
    "import matplotlib.pyplot as plt\n",
    "%pylab inline"
   ]
  },
  {
   "cell_type": "markdown",
   "metadata": {},
   "source": [
    "### Helper Methods"
   ]
  },
  {
   "cell_type": "code",
   "execution_count": 3,
   "metadata": {},
   "outputs": [],
   "source": [
    "from sklearn.metrics import balanced_accuracy_score\n",
    "from sklearn.metrics import classification_report\n",
    "from sklearn.metrics import roc_curve, auc\n",
    "import seaborn as sns\n",
    "sns.set()\n",
    "\n",
    "def corrPlot(df):\n",
    "    sns.set(rc={'figure.figsize':(11.7,8.27)})\n",
    "    corr = df.corr()\n",
    "    sns.heatmap(corr, \n",
    "        xticklabels=corr.columns,\n",
    "        yticklabels=corr.columns)\n",
    "\n",
    "def getReport(predictions, flag):\n",
    "    if flag == 'test':\n",
    "        theDf = target_test\n",
    "    elif flag == 'val':\n",
    "        theDf = target_val\n",
    "    print(\"Balanced_Accuracy:\", balanced_accuracy_score(theDf, predictions))\n",
    "    print(classification_report(theDf, predictions))\n",
    "    \n",
    "def plotROC(model, flag):\n",
    "    if flag == 'test':\n",
    "        features = features_test\n",
    "        target = target_test\n",
    "    elif flag == 'val':\n",
    "        features = features_val\n",
    "        target = target_val\n",
    "    probabilities = model.predict_proba(features)\n",
    "    preds = probabilities[:,1]\n",
    "    fpr, tpr, threshold = roc_curve(target, preds)\n",
    "    roc_auc = auc(fpr, tpr)\n",
    "    \n",
    "    plt.title('ROC Curve')\n",
    "    plt.plot(fpr, tpr, 'b', label = 'AUC = %0.2f' % roc_auc)\n",
    "    plt.legend(loc = 'lower right')\n",
    "    plt.plot([0, 1], [0, 1],'r--')\n",
    "    plt.xlim([0, 1])\n",
    "    plt.ylim([0, 1])\n",
    "    plt.ylabel('True Positive Rate')\n",
    "    plt.xlabel('False Positive Rate')\n",
    "    plt.show()"
   ]
  },
  {
   "cell_type": "markdown",
   "metadata": {},
   "source": [
    "### Reading in Data"
   ]
  },
  {
   "cell_type": "code",
   "execution_count": 4,
   "metadata": {},
   "outputs": [
    {
     "name": "stdout",
     "output_type": "stream",
     "text": [
      "0    482\n",
      "1    261\n",
      "Name: ConsensusDiagnosis, dtype: int64\n",
      "\n",
      "DataType\n",
      "float64\n"
     ]
    }
   ],
   "source": [
    "df = pd.read_csv('../ready4Learning2.csv', index_col = 0)\n",
    "df.drop(df.tail(1).index,inplace=True)\n",
    "df['Age@Scan'] = df['Age@Scan'].astype('float64')\n",
    "\n",
    "print(df.ConsensusDiagnosis.value_counts())\n",
    "\n",
    "print(\"\\nDataType\")\n",
    "print(df['Age@Scan'].dtypes)"
   ]
  },
  {
   "cell_type": "markdown",
   "metadata": {},
   "source": [
    "### Downsampling"
   ]
  },
  {
   "cell_type": "code",
   "execution_count": 5,
   "metadata": {},
   "outputs": [
    {
     "name": "stdout",
     "output_type": "stream",
     "text": [
      "1    261\n",
      "0    261\n",
      "Name: ConsensusDiagnosis, dtype: int64\n"
     ]
    }
   ],
   "source": [
    "from sklearn.utils import resample\n",
    "\n",
    "df_majority = df[df.ConsensusDiagnosis==0]\n",
    "df_minority = df[df.ConsensusDiagnosis==1]\n",
    "\n",
    "df_majority_downsampled = resample(df_majority, \n",
    "                                   replace=False,\n",
    "                                   n_samples=261,\n",
    "                                   random_state=123)\n",
    "\n",
    "df_downsampled = pd.concat([df_majority_downsampled, df_minority])\n",
    "\n",
    "print(df_downsampled.ConsensusDiagnosis.value_counts())\n",
    "\n",
    "target = df_downsampled.ConsensusDiagnosis\n",
    "features = df_downsampled.drop(['ConsensusDiagnosis', 'UNK', 'QMC', 'OTH', 'ScanDate'], axis = 1)"
   ]
  },
  {
   "cell_type": "code",
   "execution_count": 6,
   "metadata": {},
   "outputs": [
    {
     "data": {
      "text/html": [
       "<div>\n",
       "<style scoped>\n",
       "    .dataframe tbody tr th:only-of-type {\n",
       "        vertical-align: middle;\n",
       "    }\n",
       "\n",
       "    .dataframe tbody tr th {\n",
       "        vertical-align: top;\n",
       "    }\n",
       "\n",
       "    .dataframe thead th {\n",
       "        text-align: right;\n",
       "    }\n",
       "</style>\n",
       "<table border=\"1\" class=\"dataframe\">\n",
       "  <thead>\n",
       "    <tr style=\"text-align: right;\">\n",
       "      <th></th>\n",
       "      <th>Age@Scan</th>\n",
       "      <th>Intracranial_Volume</th>\n",
       "      <th>LEC_Volume</th>\n",
       "      <th>LEC_Thickness</th>\n",
       "      <th>REC_Volume</th>\n",
       "      <th>REC_Thickness</th>\n",
       "      <th>0</th>\n",
       "      <th>1</th>\n",
       "      <th>2</th>\n",
       "      <th>3</th>\n",
       "      <th>...</th>\n",
       "      <th>270</th>\n",
       "      <th>271</th>\n",
       "      <th>272</th>\n",
       "      <th>273</th>\n",
       "      <th>274</th>\n",
       "      <th>275</th>\n",
       "      <th>DAT</th>\n",
       "      <th>MCI</th>\n",
       "      <th>NCF</th>\n",
       "      <th>NCO</th>\n",
       "    </tr>\n",
       "  </thead>\n",
       "  <tbody>\n",
       "    <tr>\n",
       "      <th>658</th>\n",
       "      <td>46.2</td>\n",
       "      <td>1.588766e+06</td>\n",
       "      <td>360.791015</td>\n",
       "      <td>1.850467</td>\n",
       "      <td>246.533203</td>\n",
       "      <td>1.709609</td>\n",
       "      <td>8192</td>\n",
       "      <td>6513</td>\n",
       "      <td>7731</td>\n",
       "      <td>7856</td>\n",
       "      <td>...</td>\n",
       "      <td>18</td>\n",
       "      <td>122</td>\n",
       "      <td>85</td>\n",
       "      <td>1762</td>\n",
       "      <td>366</td>\n",
       "      <td>500</td>\n",
       "      <td>0.0</td>\n",
       "      <td>0.0</td>\n",
       "      <td>1.0</td>\n",
       "      <td>0.0</td>\n",
       "    </tr>\n",
       "    <tr>\n",
       "      <th>644</th>\n",
       "      <td>51.9</td>\n",
       "      <td>1.301487e+06</td>\n",
       "      <td>233.789062</td>\n",
       "      <td>1.673710</td>\n",
       "      <td>158.642578</td>\n",
       "      <td>1.395500</td>\n",
       "      <td>13372</td>\n",
       "      <td>10138</td>\n",
       "      <td>12739</td>\n",
       "      <td>12873</td>\n",
       "      <td>...</td>\n",
       "      <td>34</td>\n",
       "      <td>178</td>\n",
       "      <td>292</td>\n",
       "      <td>2674</td>\n",
       "      <td>588</td>\n",
       "      <td>697</td>\n",
       "      <td>0.0</td>\n",
       "      <td>0.0</td>\n",
       "      <td>1.0</td>\n",
       "      <td>0.0</td>\n",
       "    </tr>\n",
       "    <tr>\n",
       "      <th>7</th>\n",
       "      <td>57.6</td>\n",
       "      <td>1.580473e+06</td>\n",
       "      <td>707.739257</td>\n",
       "      <td>1.995442</td>\n",
       "      <td>696.752929</td>\n",
       "      <td>1.744143</td>\n",
       "      <td>10778</td>\n",
       "      <td>7487</td>\n",
       "      <td>9763</td>\n",
       "      <td>8120</td>\n",
       "      <td>...</td>\n",
       "      <td>23</td>\n",
       "      <td>292</td>\n",
       "      <td>166</td>\n",
       "      <td>2129</td>\n",
       "      <td>375</td>\n",
       "      <td>493</td>\n",
       "      <td>0.0</td>\n",
       "      <td>0.0</td>\n",
       "      <td>1.0</td>\n",
       "      <td>0.0</td>\n",
       "    </tr>\n",
       "    <tr>\n",
       "      <th>590</th>\n",
       "      <td>36.1</td>\n",
       "      <td>1.574464e+06</td>\n",
       "      <td>336.181640</td>\n",
       "      <td>2.147858</td>\n",
       "      <td>356.176757</td>\n",
       "      <td>2.246946</td>\n",
       "      <td>9166</td>\n",
       "      <td>6838</td>\n",
       "      <td>9138</td>\n",
       "      <td>8002</td>\n",
       "      <td>...</td>\n",
       "      <td>20</td>\n",
       "      <td>88</td>\n",
       "      <td>48</td>\n",
       "      <td>2265</td>\n",
       "      <td>456</td>\n",
       "      <td>528</td>\n",
       "      <td>0.0</td>\n",
       "      <td>0.0</td>\n",
       "      <td>1.0</td>\n",
       "      <td>0.0</td>\n",
       "    </tr>\n",
       "    <tr>\n",
       "      <th>628</th>\n",
       "      <td>52.0</td>\n",
       "      <td>1.519193e+06</td>\n",
       "      <td>442.089843</td>\n",
       "      <td>2.383512</td>\n",
       "      <td>365.625000</td>\n",
       "      <td>2.282794</td>\n",
       "      <td>11240</td>\n",
       "      <td>9458</td>\n",
       "      <td>10757</td>\n",
       "      <td>9748</td>\n",
       "      <td>...</td>\n",
       "      <td>22</td>\n",
       "      <td>182</td>\n",
       "      <td>197</td>\n",
       "      <td>2154</td>\n",
       "      <td>466</td>\n",
       "      <td>480</td>\n",
       "      <td>0.0</td>\n",
       "      <td>0.0</td>\n",
       "      <td>1.0</td>\n",
       "      <td>0.0</td>\n",
       "    </tr>\n",
       "  </tbody>\n",
       "</table>\n",
       "<p>5 rows × 286 columns</p>\n",
       "</div>"
      ],
      "text/plain": [
       "     Age@Scan  Intracranial_Volume  LEC_Volume  LEC_Thickness  REC_Volume  \\\n",
       "658      46.2         1.588766e+06  360.791015       1.850467  246.533203   \n",
       "644      51.9         1.301487e+06  233.789062       1.673710  158.642578   \n",
       "7        57.6         1.580473e+06  707.739257       1.995442  696.752929   \n",
       "590      36.1         1.574464e+06  336.181640       2.147858  356.176757   \n",
       "628      52.0         1.519193e+06  442.089843       2.383512  365.625000   \n",
       "\n",
       "     REC_Thickness      0      1      2      3  ...  270  271  272   273  274  \\\n",
       "658       1.709609   8192   6513   7731   7856  ...   18  122   85  1762  366   \n",
       "644       1.395500  13372  10138  12739  12873  ...   34  178  292  2674  588   \n",
       "7         1.744143  10778   7487   9763   8120  ...   23  292  166  2129  375   \n",
       "590       2.246946   9166   6838   9138   8002  ...   20   88   48  2265  456   \n",
       "628       2.282794  11240   9458  10757   9748  ...   22  182  197  2154  466   \n",
       "\n",
       "     275  DAT  MCI  NCF  NCO  \n",
       "658  500  0.0  0.0  1.0  0.0  \n",
       "644  697  0.0  0.0  1.0  0.0  \n",
       "7    493  0.0  0.0  1.0  0.0  \n",
       "590  528  0.0  0.0  1.0  0.0  \n",
       "628  480  0.0  0.0  1.0  0.0  \n",
       "\n",
       "[5 rows x 286 columns]"
      ]
     },
     "execution_count": 6,
     "metadata": {},
     "output_type": "execute_result"
    }
   ],
   "source": [
    "features.head()"
   ]
  },
  {
   "cell_type": "code",
   "execution_count": 7,
   "metadata": {},
   "outputs": [],
   "source": [
    "#corrPlot(df_downsampled.loc[:, 'Age@Scan':'REC_Thickness'])\n",
    "#savefig('../images/fig1.png')"
   ]
  },
  {
   "cell_type": "markdown",
   "metadata": {},
   "source": [
    "###  Standardizing Data"
   ]
  },
  {
   "cell_type": "code",
   "execution_count": 8,
   "metadata": {},
   "outputs": [
    {
     "name": "stderr",
     "output_type": "stream",
     "text": [
      "/Users/hhuang85/anaconda3/lib/python3.7/site-packages/sklearn/preprocessing/data.py:645: DataConversionWarning: Data with input dtype int64, float64 were all converted to float64 by StandardScaler.\n",
      "  return self.partial_fit(X, y)\n",
      "/Users/hhuang85/anaconda3/lib/python3.7/site-packages/sklearn/base.py:464: DataConversionWarning: Data with input dtype int64, float64 were all converted to float64 by StandardScaler.\n",
      "  return self.fit(X, **fit_params).transform(X)\n"
     ]
    }
   ],
   "source": [
    "from sklearn.preprocessing import StandardScaler\n",
    "\n",
    "features = StandardScaler().fit_transform(features)"
   ]
  },
  {
   "cell_type": "code",
   "execution_count": 9,
   "metadata": {},
   "outputs": [],
   "source": [
    "from sklearn.model_selection import train_test_split\n",
    "features_train, features_test, target_train, target_test = train_test_split(features, target, test_size=0.1, random_state=0, )\n",
    "features_train, features_val, target_train, target_val = train_test_split(features_train, target_train, test_size = 0.33, random_state = 0)"
   ]
  },
  {
   "cell_type": "markdown",
   "metadata": {},
   "source": [
    "### Logistic Regression"
   ]
  },
  {
   "cell_type": "code",
   "execution_count": 10,
   "metadata": {},
   "outputs": [
    {
     "name": "stderr",
     "output_type": "stream",
     "text": [
      "/Users/hhuang85/anaconda3/lib/python3.7/site-packages/sklearn/model_selection/_search.py:841: DeprecationWarning: The default of the `iid` parameter will change from True to False in version 0.22 and will be removed in 0.24. This will change numeric results when test-set sizes are unequal.\n",
      "  DeprecationWarning)\n"
     ]
    },
    {
     "data": {
      "text/plain": [
       "GridSearchCV(cv=10, error_score='raise-deprecating',\n",
       "       estimator=LogisticRegression(C=1.0, class_weight=None, dual=False, fit_intercept=True,\n",
       "          intercept_scaling=1, max_iter=500, multi_class='warn',\n",
       "          n_jobs=None, penalty='l2', random_state=None, solver='liblinear',\n",
       "          tol=0.0001, verbose=0, warm_start=False),\n",
       "       fit_params=None, iid='warn', n_jobs=None,\n",
       "       param_grid={'C': [0.001, 0.01, 0.1, 1, 5, 10], 'penalty': ['l1', 'l2'], 'tol': [0.01, 0.001, 0.0001], 'fit_intercept': [True, False], 'class_weight': [None, 'balanced'], 'intercept_scaling': [0.0001, 0.001, 0.1, 1]},\n",
       "       pre_dispatch='2*n_jobs', refit=True, return_train_score='warn',\n",
       "       scoring=None, verbose=0)"
      ]
     },
     "execution_count": 10,
     "metadata": {},
     "output_type": "execute_result"
    }
   ],
   "source": [
    "from sklearn.linear_model import LogisticRegression\n",
    "from sklearn.model_selection import GridSearchCV\n",
    "\n",
    "\n",
    "logit = LogisticRegression(solver='liblinear', max_iter=500)\n",
    "\n",
    "penalties = ['l1', 'l2']\n",
    "tols = [1e-2, 1e-3, 1e-4]\n",
    "costs = [0.001, 0.01, 0.1, 1, 5, 10]\n",
    "intercepts = [0.0001, 0.001, 0.1, 1]\n",
    "fit_intercepts = [True, False]\n",
    "classWeights = [None, 'balanced']\n",
    "\n",
    "params_logit = {'C': costs, 'penalty': penalties, 'tol': tols, \n",
    "                'fit_intercept': fit_intercepts, 'class_weight': classWeights, 'intercept_scaling': intercepts}\n",
    "\n",
    "gs_logit = GridSearchCV(logit, params_logit, cv=10)\n",
    "\n",
    "gs_logit.fit(features_train, target_train)\n"
   ]
  },
  {
   "cell_type": "code",
   "execution_count": 11,
   "metadata": {},
   "outputs": [
    {
     "name": "stdout",
     "output_type": "stream",
     "text": [
      "Balanced_Accuracy: 0.6364942528735633\n",
      "              precision    recall  f1-score   support\n",
      "\n",
      "           0       0.67      0.69      0.68        29\n",
      "           1       0.61      0.58      0.60        24\n",
      "\n",
      "   micro avg       0.64      0.64      0.64        53\n",
      "   macro avg       0.64      0.64      0.64        53\n",
      "weighted avg       0.64      0.64      0.64        53\n",
      "\n"
     ]
    },
    {
     "data": {
      "image/png": "[encoded data removed]",
      "text/plain": [
       "<Figure size 432x288 with 1 Axes>"
      ]
     },
     "metadata": {},
     "output_type": "display_data"
    }
   ],
   "source": [
    "predictions = gs_logit.predict(features_test)\n",
    "getReport(predictions, 'test')\n",
    "plotROC(gs_logit, 'test')"
   ]
  },
  {
   "cell_type": "code",
   "execution_count": 12,
   "metadata": {},
   "outputs": [
    {
     "name": "stdout",
     "output_type": "stream",
     "text": [
      "Balanced_Accuracy: 0.6966666666666667\n",
      "              precision    recall  f1-score   support\n",
      "\n",
      "           0       0.71      0.70      0.70        80\n",
      "           1       0.68      0.69      0.69        75\n",
      "\n",
      "   micro avg       0.70      0.70      0.70       155\n",
      "   macro avg       0.70      0.70      0.70       155\n",
      "weighted avg       0.70      0.70      0.70       155\n",
      "\n"
     ]
    },
    {
     "data": {
      "image/png": "[encoded data removed]",
      "text/plain": [
       "<Figure size 432x288 with 1 Axes>"
      ]
     },
     "metadata": {},
     "output_type": "display_data"
    }
   ],
   "source": [
    "predictions = gs_logit.predict(features_val)\n",
    "getReport(predictions, 'val')\n",
    "plotROC(gs_logit, 'val')"
   ]
  },
  {
   "cell_type": "markdown",
   "metadata": {},
   "source": [
    "### LDA"
   ]
  },
  {
   "cell_type": "code",
   "execution_count": null,
   "metadata": {},
   "outputs": [],
   "source": [
    "from sklearn.discriminant_analysis import LinearDiscriminantAnalysis\n",
    "lda = LinearDiscriminantAnalysis()\n",
    "\n",
    "solvers = ['lsqr']\n",
    "shrinkages = [None, 'auto']\n",
    "tols = [1e-3, 1e-4, 1e-5]\n",
    "components = [0,1]\n",
    "\n",
    "params_lda = {'solver': solvers,'shrinkage': shrinkages, 'tol': tols, 'n_components':components}\n",
    "\n",
    "gs_lda = GridSearchCV(lda, params_lda, cv=10)\n",
    "\n",
    "\n",
    "gs_lda.fit(features_train, target_train)\n",
    "predictions = gs_lda.predict(features_test)"
   ]
  },
  {
   "cell_type": "code",
   "execution_count": null,
   "metadata": {},
   "outputs": [],
   "source": [
    "getReport(predictions, 'test')\n",
    "plotROC(gs_lda, 'test')"
   ]
  },
  {
   "cell_type": "code",
   "execution_count": null,
   "metadata": {},
   "outputs": [],
   "source": [
    "predictions = gs_lda.predict(features_val)\n",
    "getReport(predictions, 'val')\n",
    "plotROC(gs_lda, 'val')"
   ]
  },
  {
   "cell_type": "markdown",
   "metadata": {},
   "source": [
    "### KNN"
   ]
  },
  {
   "cell_type": "code",
   "execution_count": null,
   "metadata": {},
   "outputs": [],
   "source": [
    "from sklearn.neighbors import KNeighborsClassifier\n",
    "\n",
    "knn = KNeighborsClassifier()\n",
    "\n",
    "neighbors = [1,2,3,4,5]\n",
    "weights = ['uniform', 'distance']\n",
    "algo = ['ball_tree', 'kd_tree', 'brute']\n",
    "\n",
    "params_knn = {'n_neighbors': neighbors, 'weights': weights, 'algorithm': algo}\n",
    "gs_knn = GridSearchCV(knn, params_knn, cv=10)\n",
    "\n",
    "gs_knn.fit(features_train, target_train)\n",
    "predictions = gs_knn.predict(features_test)"
   ]
  },
  {
   "cell_type": "code",
   "execution_count": null,
   "metadata": {},
   "outputs": [],
   "source": [
    "getReport(predictions, 'test')\n",
    "plotROC(gs_knn, 'test')"
   ]
  },
  {
   "cell_type": "code",
   "execution_count": null,
   "metadata": {},
   "outputs": [],
   "source": [
    "predictions = gs_knn.predict(features_val)\n",
    "getReport(predictions, 'val')\n",
    "plotROC(gs_lda, 'val')"
   ]
  },
  {
   "cell_type": "markdown",
   "metadata": {},
   "source": [
    "### RF"
   ]
  },
  {
   "cell_type": "code",
   "execution_count": null,
   "metadata": {},
   "outputs": [],
   "source": [
    "from sklearn.ensemble import RandomForestClassifier\n",
    "\n",
    "rf = RandomForestClassifier(random_state=0)\n",
    "\n",
    "num_trees = [10, 15, 20, 25, 30]\n",
    "\n",
    "params_rf = {'n_estimators': num_trees }\n",
    "\n",
    "\n",
    "gs_rf = GridSearchCV(rf, params_rf, cv=10)\n",
    "\n",
    "\n",
    "gs_rf.fit(features_train, target_train)\n",
    "predictions = gs_rf.predict(features_test)"
   ]
  },
  {
   "cell_type": "code",
   "execution_count": null,
   "metadata": {},
   "outputs": [],
   "source": [
    "getReport(predictions, 'test')\n",
    "plotROC(gs_rf, 'test')"
   ]
  },
  {
   "cell_type": "code",
   "execution_count": null,
   "metadata": {},
   "outputs": [],
   "source": [
    "predictions = gs_rf.predict(features_val)\n",
    "getReport(predictions, 'val')\n",
    "plotROC(gs_rf, 'val')"
   ]
  },
  {
   "cell_type": "markdown",
   "metadata": {},
   "source": [
    "### NN"
   ]
  },
  {
   "cell_type": "code",
   "execution_count": null,
   "metadata": {},
   "outputs": [],
   "source": [
    "from sklearn.neural_network import MLPClassifier\n",
    "\n",
    "nn = MLPClassifier(activation='logistic')\n",
    "\n",
    "nn.fit(features_train, target_train)\n",
    "predictions = nn.predict(features_test)"
   ]
  },
  {
   "cell_type": "code",
   "execution_count": null,
   "metadata": {},
   "outputs": [],
   "source": [
    "getReport(predictions, 'test')\n",
    "plotROC(nn, 'test')"
   ]
  },
  {
   "cell_type": "code",
   "execution_count": null,
   "metadata": {},
   "outputs": [],
   "source": [
    "predictions = nn.predict(features_val)\n",
    "getReport(predictions, 'val')\n",
    "plotROC(nn, 'val')"
   ]
  },
  {
   "cell_type": "markdown",
   "metadata": {},
   "source": [
    "### SVC"
   ]
  },
  {
   "cell_type": "code",
   "execution_count": null,
   "metadata": {},
   "outputs": [],
   "source": [
    "from sklearn.svm import SVC\n",
    "from sklearn.model_selection import GridSearchCV\n",
    "\n",
    "\n",
    "svm = SVC(kernel = 'linear', probability=True)\n",
    "\n",
    "costs = [0.001, 0.01, 0.1, 1, 5, 10, 100]\n",
    "gammas = [0.005,.015, 0.01,0.02,0.03,0.04,0.05]\n",
    "params_svm = {'C': costs, 'gamma' : gammas}\n",
    "\n",
    "gs_svm = GridSearchCV(svm, params_svm, cv=10)\n",
    "\n",
    "gs_svm.fit(features_train, target_train)\n",
    "predictions = gs_svm.predict(features_test)"
   ]
  },
  {
   "cell_type": "code",
   "execution_count": null,
   "metadata": {},
   "outputs": [],
   "source": [
    "getReport(predictions, 'test')\n",
    "plotROC(gs_svm, 'test')"
   ]
  },
  {
   "cell_type": "code",
   "execution_count": null,
   "metadata": {},
   "outputs": [],
   "source": [
    "predictions = gs_svm.predict(features_val)\n",
    "getReport(predictions, 'val')\n",
    "plotROC(gs_svm, 'val')"
   ]
  },
  {
   "cell_type": "markdown",
   "metadata": {},
   "source": [
    "### QDA REMOVE COLLINEAR VARIABLES"
   ]
  },
  {
   "cell_type": "code",
   "execution_count": null,
   "metadata": {},
   "outputs": [],
   "source": [
    "from sklearn.discriminant_analysis import QuadraticDiscriminantAnalysis\n",
    "qda = QuadraticDiscriminantAnalysis()\n",
    "\n",
    "tols = [1e-3, 1e-4, 1e-5]\n",
    "params_qda = {'tol': tols}\n",
    "\n",
    "gs_qda = GridSearchCV(qda, params_qda, cv=10)\n",
    "\n",
    "gs_qda.fit(features_train, target_train)\n",
    "predictions = gs_qda.predict(features_test)"
   ]
  },
  {
   "cell_type": "code",
   "execution_count": null,
   "metadata": {},
   "outputs": [],
   "source": [
    "getReport(predictions)\n",
    "plotROC(gs_qda)"
   ]
  }
 ],
 "metadata": {
  "kernelspec": {
   "display_name": "Python 3",
   "language": "python",
   "name": "python3"
  },
  "language_info": {
   "codemirror_mode": {
    "name": "ipython",
    "version": 3
   },
   "file_extension": ".py",
   "mimetype": "text/x-python",
   "name": "python",
   "nbconvert_exporter": "python",
   "pygments_lexer": "ipython3",
   "version": "3.7.3"
  },
  "toc": {
   "base_numbering": 1,
   "nav_menu": {},
   "number_sections": false,
   "sideBar": false,
   "skip_h1_title": false,
   "title_cell": "Table of Contents",
   "title_sidebar": "Contents",
   "toc_cell": false,
   "toc_position": {},
   "toc_section_display": false,
   "toc_window_display": false
  }
 },
 "nbformat": 4,
 "nbformat_minor": 2
}
