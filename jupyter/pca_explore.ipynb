{
 "cells": [
  {
   "cell_type": "code",
   "execution_count": 162,
   "metadata": {},
   "outputs": [
    {
     "name": "stdout",
     "output_type": "stream",
     "text": [
      "Populating the interactive namespace from numpy and matplotlib\n"
     ]
    }
   ],
   "source": [
    "import pandas as pd\n",
    "import matplotlib.pyplot as plt\n",
    "%pylab inline"
   ]
  },
  {
   "cell_type": "code",
   "execution_count": 163,
   "metadata": {},
   "outputs": [],
   "source": [
    "from sklearn.metrics import balanced_accuracy_score\n",
    "from sklearn.metrics import classification_report\n",
    "from sklearn.metrics import roc_curve, auc\n",
    "import seaborn as sns\n",
    "sns.set()\n",
    "\n",
    "def corrPlot(df):\n",
    "    sns.set(rc={'figure.figsize':(11.7,8.27)})\n",
    "    corr = df.corr()\n",
    "    sns.heatmap(corr, \n",
    "        xticklabels=corr.columns,\n",
    "        yticklabels=corr.columns)\n",
    "\n",
    "def getReport(predictions, flag):\n",
    "    if flag == 'test':\n",
    "        theDf = target_test\n",
    "    elif flag == 'val':\n",
    "        theDf = target_val\n",
    "    print(\"Balanced_Accuracy:\", balanced_accuracy_score(theDf, predictions))\n",
    "    print(classification_report(theDf, predictions))\n",
    "    \n",
    "def plotROC(model, flag):\n",
    "    if flag == 'test':\n",
    "        features = features_test\n",
    "        target = target_test\n",
    "    elif flag == 'val':\n",
    "        features = features_val\n",
    "        target = target_val\n",
    "    probabilities = model.predict_proba(features)\n",
    "    preds = probabilities[:,1]\n",
    "    fpr, tpr, threshold = roc_curve(target, preds)\n",
    "    roc_auc = auc(fpr, tpr)\n",
    "    \n",
    "    plt.title('ROC Curve')\n",
    "    plt.plot(fpr, tpr, 'b', label = 'AUC = %0.2f' % roc_auc)\n",
    "    plt.legend(loc = 'lower right')\n",
    "    plt.plot([0, 1], [0, 1],'r--')\n",
    "    plt.xlim([0, 1])\n",
    "    plt.ylim([0, 1])\n",
    "    plt.ylabel('True Positive Rate')\n",
    "    plt.xlabel('False Positive Rate')\n",
    "    #plt.show()\n",
    "    \n",
    "    return plt"
   ]
  },
  {
   "cell_type": "markdown",
   "metadata": {},
   "source": [
    "### Reading in Data"
   ]
  },
  {
   "cell_type": "code",
   "execution_count": 164,
   "metadata": {},
   "outputs": [
    {
     "name": "stdout",
     "output_type": "stream",
     "text": [
      "0    482\n",
      "1    261\n",
      "Name: ConsensusDiagnosis, dtype: int64\n",
      "\n",
      "DataType\n",
      "float64\n"
     ]
    }
   ],
   "source": [
    "df = pd.read_csv('../ready4Learning2.csv', index_col = 0)\n",
    "df.drop(df.tail(1).index,inplace=True)\n",
    "df['Age@Scan'] = df['Age@Scan'].astype('float64')\n",
    "\n",
    "print(df.ConsensusDiagnosis.value_counts())\n",
    "\n",
    "print(\"\\nDataType\")\n",
    "print(df['Age@Scan'].dtypes)"
   ]
  },
  {
   "cell_type": "code",
   "execution_count": 168,
   "metadata": {},
   "outputs": [],
   "source": [
    "target = df.ConsensusDiagnosis\n",
    "features = df.drop(['ConsensusDiagnosis', 'UNK', 'QMC', 'OTH', 'ScanDate', 'Intracranial_Volume', 'LEC_Volume', \n",
    "                   'LEC_Thickness', 'REC_Volume', 'REC_Thickness'], axis = 1)"
   ]
  },
  {
   "cell_type": "code",
   "execution_count": 169,
   "metadata": {},
   "outputs": [
    {
     "data": {
      "text/html": [
       "<div>\n",
       "<style scoped>\n",
       "    .dataframe tbody tr th:only-of-type {\n",
       "        vertical-align: middle;\n",
       "    }\n",
       "\n",
       "    .dataframe tbody tr th {\n",
       "        vertical-align: top;\n",
       "    }\n",
       "\n",
       "    .dataframe thead th {\n",
       "        text-align: right;\n",
       "    }\n",
       "</style>\n",
       "<table border=\"1\" class=\"dataframe\">\n",
       "  <thead>\n",
       "    <tr style=\"text-align: right;\">\n",
       "      <th></th>\n",
       "      <th>Age@Scan</th>\n",
       "      <th>0</th>\n",
       "      <th>1</th>\n",
       "      <th>2</th>\n",
       "      <th>3</th>\n",
       "      <th>4</th>\n",
       "      <th>5</th>\n",
       "      <th>6</th>\n",
       "      <th>7</th>\n",
       "      <th>8</th>\n",
       "      <th>...</th>\n",
       "      <th>270</th>\n",
       "      <th>271</th>\n",
       "      <th>272</th>\n",
       "      <th>273</th>\n",
       "      <th>274</th>\n",
       "      <th>275</th>\n",
       "      <th>DAT</th>\n",
       "      <th>MCI</th>\n",
       "      <th>NCF</th>\n",
       "      <th>NCO</th>\n",
       "    </tr>\n",
       "  </thead>\n",
       "  <tbody>\n",
       "    <tr>\n",
       "      <th>0</th>\n",
       "      <td>80.1</td>\n",
       "      <td>10892</td>\n",
       "      <td>8475</td>\n",
       "      <td>6917</td>\n",
       "      <td>6471</td>\n",
       "      <td>507</td>\n",
       "      <td>1277</td>\n",
       "      <td>7962</td>\n",
       "      <td>6257</td>\n",
       "      <td>7283</td>\n",
       "      <td>...</td>\n",
       "      <td>0</td>\n",
       "      <td>623</td>\n",
       "      <td>686</td>\n",
       "      <td>2330</td>\n",
       "      <td>257</td>\n",
       "      <td>292</td>\n",
       "      <td>0.0</td>\n",
       "      <td>0.0</td>\n",
       "      <td>0.0</td>\n",
       "      <td>1.0</td>\n",
       "    </tr>\n",
       "    <tr>\n",
       "      <th>1</th>\n",
       "      <td>51.8</td>\n",
       "      <td>12305</td>\n",
       "      <td>9670</td>\n",
       "      <td>9493</td>\n",
       "      <td>9876</td>\n",
       "      <td>2092</td>\n",
       "      <td>4254</td>\n",
       "      <td>7826</td>\n",
       "      <td>8855</td>\n",
       "      <td>14691</td>\n",
       "      <td>...</td>\n",
       "      <td>13</td>\n",
       "      <td>201</td>\n",
       "      <td>255</td>\n",
       "      <td>2519</td>\n",
       "      <td>352</td>\n",
       "      <td>501</td>\n",
       "      <td>0.0</td>\n",
       "      <td>0.0</td>\n",
       "      <td>0.0</td>\n",
       "      <td>1.0</td>\n",
       "    </tr>\n",
       "    <tr>\n",
       "      <th>2</th>\n",
       "      <td>60.9</td>\n",
       "      <td>9364</td>\n",
       "      <td>9456</td>\n",
       "      <td>11038</td>\n",
       "      <td>9008</td>\n",
       "      <td>2525</td>\n",
       "      <td>3785</td>\n",
       "      <td>9857</td>\n",
       "      <td>9291</td>\n",
       "      <td>15584</td>\n",
       "      <td>...</td>\n",
       "      <td>16</td>\n",
       "      <td>166</td>\n",
       "      <td>117</td>\n",
       "      <td>2321</td>\n",
       "      <td>465</td>\n",
       "      <td>605</td>\n",
       "      <td>0.0</td>\n",
       "      <td>0.0</td>\n",
       "      <td>1.0</td>\n",
       "      <td>0.0</td>\n",
       "    </tr>\n",
       "    <tr>\n",
       "      <th>3</th>\n",
       "      <td>65.9</td>\n",
       "      <td>12349</td>\n",
       "      <td>10002</td>\n",
       "      <td>10009</td>\n",
       "      <td>10551</td>\n",
       "      <td>2393</td>\n",
       "      <td>4065</td>\n",
       "      <td>8886</td>\n",
       "      <td>10263</td>\n",
       "      <td>14132</td>\n",
       "      <td>...</td>\n",
       "      <td>0</td>\n",
       "      <td>503</td>\n",
       "      <td>343</td>\n",
       "      <td>4910</td>\n",
       "      <td>385</td>\n",
       "      <td>626</td>\n",
       "      <td>0.0</td>\n",
       "      <td>0.0</td>\n",
       "      <td>1.0</td>\n",
       "      <td>0.0</td>\n",
       "    </tr>\n",
       "    <tr>\n",
       "      <th>4</th>\n",
       "      <td>53.0</td>\n",
       "      <td>10347</td>\n",
       "      <td>8601</td>\n",
       "      <td>10127</td>\n",
       "      <td>8696</td>\n",
       "      <td>2472</td>\n",
       "      <td>3644</td>\n",
       "      <td>9509</td>\n",
       "      <td>9558</td>\n",
       "      <td>15221</td>\n",
       "      <td>...</td>\n",
       "      <td>36</td>\n",
       "      <td>173</td>\n",
       "      <td>153</td>\n",
       "      <td>2623</td>\n",
       "      <td>458</td>\n",
       "      <td>458</td>\n",
       "      <td>0.0</td>\n",
       "      <td>0.0</td>\n",
       "      <td>1.0</td>\n",
       "      <td>0.0</td>\n",
       "    </tr>\n",
       "  </tbody>\n",
       "</table>\n",
       "<p>5 rows × 281 columns</p>\n",
       "</div>"
      ],
      "text/plain": [
       "   Age@Scan      0      1      2      3     4     5     6      7      8  ...  \\\n",
       "0      80.1  10892   8475   6917   6471   507  1277  7962   6257   7283  ...   \n",
       "1      51.8  12305   9670   9493   9876  2092  4254  7826   8855  14691  ...   \n",
       "2      60.9   9364   9456  11038   9008  2525  3785  9857   9291  15584  ...   \n",
       "3      65.9  12349  10002  10009  10551  2393  4065  8886  10263  14132  ...   \n",
       "4      53.0  10347   8601  10127   8696  2472  3644  9509   9558  15221  ...   \n",
       "\n",
       "   270  271  272   273  274  275  DAT  MCI  NCF  NCO  \n",
       "0    0  623  686  2330  257  292  0.0  0.0  0.0  1.0  \n",
       "1   13  201  255  2519  352  501  0.0  0.0  0.0  1.0  \n",
       "2   16  166  117  2321  465  605  0.0  0.0  1.0  0.0  \n",
       "3    0  503  343  4910  385  626  0.0  0.0  1.0  0.0  \n",
       "4   36  173  153  2623  458  458  0.0  0.0  1.0  0.0  \n",
       "\n",
       "[5 rows x 281 columns]"
      ]
     },
     "execution_count": 169,
     "metadata": {},
     "output_type": "execute_result"
    }
   ],
   "source": [
    "features.head()"
   ]
  },
  {
   "cell_type": "markdown",
   "metadata": {},
   "source": [
    "### Testing Transformations for PCA"
   ]
  },
  {
   "cell_type": "code",
   "execution_count": 170,
   "metadata": {},
   "outputs": [],
   "source": [
    "#### \n",
    "import numpy as np\n",
    "from sklearn.preprocessing import FunctionTransformer\n",
    "\n",
    "logTransform = FunctionTransformer(np.log1p, validate = True)"
   ]
  },
  {
   "cell_type": "code",
   "execution_count": 184,
   "metadata": {},
   "outputs": [
    {
     "data": {
      "text/plain": [
       "0    47\n",
       "1    28\n",
       "Name: ConsensusDiagnosis, dtype: int64"
      ]
     },
     "execution_count": 184,
     "metadata": {},
     "output_type": "execute_result"
    }
   ],
   "source": [
    "target_test.value_counts()"
   ]
  },
  {
   "cell_type": "code",
   "execution_count": 171,
   "metadata": {},
   "outputs": [],
   "source": [
    "# from sklearn.preprocessing import StandardScaler\n",
    "# features = StandardScaler().fit_transform(features)\n",
    "\n",
    "# from sklearn.preprocessing import Normalizer\n",
    "# features = Normalizer().fit_transform(features)\n",
    "\n",
    "features = logTransform.fit_transform(features)\n",
    "\n",
    "\n",
    "from sklearn.model_selection import train_test_split\n",
    "features_train, features_test, target_train, target_test = train_test_split(features, target, test_size=0.1, random_state=0, )\n",
    "features_train, features_val, target_train, target_val = train_test_split(features_train, target_train, test_size = 0.3, random_state = 0)"
   ]
  },
  {
   "cell_type": "markdown",
   "metadata": {},
   "source": [
    "### PCA"
   ]
  },
  {
   "cell_type": "markdown",
   "metadata": {},
   "source": [
    "Running experiments w/ 112 state vs 2 state PCA"
   ]
  },
  {
   "cell_type": "code",
   "execution_count": 172,
   "metadata": {},
   "outputs": [
    {
     "name": "stdout",
     "output_type": "stream",
     "text": [
      "[0.21312395 0.16418026 0.10868429 0.06768591 0.04205109 0.03299364\n",
      " 0.03067987 0.02291637 0.02072364 0.01947664 0.01445894 0.01323325\n",
      " 0.012552   0.01092014 0.00991489 0.00888433 0.00824733 0.00712354\n",
      " 0.00691435 0.00667933 0.00626612 0.00594867 0.005664   0.00503805\n",
      " 0.00474735 0.00457022 0.00439401 0.00413864 0.00378959 0.00367722\n",
      " 0.00352979 0.00342255 0.00323856 0.00318808 0.003132   0.00294247\n",
      " 0.00273207 0.00268847 0.00261607 0.00253468 0.0024331  0.00234427\n",
      " 0.00227761 0.00222365 0.00214069 0.00212012 0.00204413 0.00195926\n",
      " 0.0019336  0.00184361 0.0017903  0.00172295 0.00170759 0.00166284\n",
      " 0.00162175 0.00156851 0.00153959 0.00151514 0.00146001 0.00142803\n",
      " 0.00136987 0.00134365 0.00130422 0.00127195 0.0012466  0.00120476\n",
      " 0.00116588 0.00114171 0.00112661 0.00110728 0.00106863]\n",
      "0.9503902925232532\n"
     ]
    }
   ],
   "source": [
    "from sklearn.decomposition import PCA\n",
    "\n",
    "pca = PCA(n_components=.95, random_state=0)\n",
    "\n",
    "pca.fit(features_train)\n",
    "\n",
    "features_train = pca.transform(features_train)\n",
    "features_test = pca.transform(features_test)\n",
    "features_val = pca.transform(features_val)\n",
    "\n",
    "\n",
    "print(pca.explained_variance_ratio_)\n",
    "print(sum(pca.explained_variance_ratio_))"
   ]
  },
  {
   "cell_type": "markdown",
   "metadata": {},
   "source": [
    "### Finding Eigenvalues"
   ]
  },
  {
   "cell_type": "code",
   "execution_count": 173,
   "metadata": {},
   "outputs": [
    {
     "data": {
      "text/plain": [
       "Text(0, 0.5, '0, 1')"
      ]
     },
     "execution_count": 173,
     "metadata": {},
     "output_type": "execute_result"
    },
    {
     "data": {
      "image/png": "[encoded data removed]",
      "text/plain": [
       "<Figure size 400x400 with 1 Axes>"
      ]
     },
     "metadata": {},
     "output_type": "display_data"
    }
   ],
   "source": [
    "import seaborn as sns\n",
    "sns.set()\n",
    "\n",
    "figure(num=None, figsize=(5, 5), dpi=80, facecolor='w', edgecolor='k')\n",
    "\n",
    "plt.scatter(features_train[:, 0], features_train[:, 1], alpha = 0.3)\n",
    "plt.ylabel('0, 1')"
   ]
  },
  {
   "cell_type": "code",
   "execution_count": 174,
   "metadata": {},
   "outputs": [
    {
     "data": {
      "text/plain": [
       "(75, 71)"
      ]
     },
     "execution_count": 174,
     "metadata": {},
     "output_type": "execute_result"
    }
   ],
   "source": [
    "features_test.shape"
   ]
  },
  {
   "cell_type": "code",
   "execution_count": 175,
   "metadata": {},
   "outputs": [
    {
     "data": {
      "text/plain": [
       "(467, 71)"
      ]
     },
     "execution_count": 175,
     "metadata": {},
     "output_type": "execute_result"
    }
   ],
   "source": [
    "features_train.shape"
   ]
  },
  {
   "cell_type": "code",
   "execution_count": 176,
   "metadata": {},
   "outputs": [
    {
     "data": {
      "text/plain": [
       "(201, 71)"
      ]
     },
     "execution_count": 176,
     "metadata": {},
     "output_type": "execute_result"
    }
   ],
   "source": [
    "features_val.shape"
   ]
  },
  {
   "cell_type": "code",
   "execution_count": 177,
   "metadata": {},
   "outputs": [
    {
     "data": {
      "text/plain": [
       "LogisticRegression(C=10, class_weight=None, dual=False, fit_intercept=True,\n",
       "          intercept_scaling=0.0001, max_iter=500, multi_class='warn',\n",
       "          n_jobs=None, penalty='l1', random_state=None, solver='liblinear',\n",
       "          tol=0.0001, verbose=0, warm_start=False)"
      ]
     },
     "execution_count": 177,
     "metadata": {},
     "output_type": "execute_result"
    }
   ],
   "source": [
    "from sklearn.linear_model import LogisticRegression\n",
    "from sklearn.model_selection import GridSearchCV\n",
    "\n",
    "\n",
    "logit = LogisticRegression(solver='liblinear', max_iter=500)\n",
    "\n",
    "best_logit = LogisticRegression(C=10, class_weight=None, dual=False, fit_intercept=True,\n",
    "          intercept_scaling=0.0001, max_iter=500, multi_class='warn',\n",
    "          n_jobs=None, penalty='l1', random_state=None, solver='liblinear',\n",
    "          tol=0.0001, verbose=0, warm_start=False)\n",
    "\n",
    "penalties = ['l1', 'l2']\n",
    "tols = [1e-2, 1e-3, 1e-4]\n",
    "costs = [0.001, 0.01, 0.1, 1, 5, 10]\n",
    "intercepts = [0.0001, 0.001, 0.1, 1]\n",
    "fit_intercepts = [True, False]\n",
    "classWeights = [None, 'balanced']\n",
    "\n",
    "params_logit = {'C': costs, 'penalty': penalties, 'tol': tols, \n",
    "                'fit_intercept': fit_intercepts, 'class_weight': classWeights, 'intercept_scaling': intercepts}\n",
    "\n",
    "gs_logit = GridSearchCV(logit, params_logit, cv=10)\n",
    "\n",
    "best_logit.fit(features_train, target_train)"
   ]
  },
  {
   "cell_type": "code",
   "execution_count": 178,
   "metadata": {},
   "outputs": [
    {
     "name": "stdout",
     "output_type": "stream",
     "text": [
      "Balanced_Accuracy: 0.6857892335766423\n",
      "              precision    recall  f1-score   support\n",
      "\n",
      "           0       0.82      0.72      0.76       137\n",
      "           1       0.52      0.66      0.58        64\n",
      "\n",
      "   micro avg       0.70      0.70      0.70       201\n",
      "   macro avg       0.67      0.69      0.67       201\n",
      "weighted avg       0.72      0.70      0.70       201\n",
      "\n"
     ]
    },
    {
     "data": {
      "text/plain": [
       "<module 'matplotlib.pyplot' from '/Users/Henry/miniconda3/lib/python3.6/site-packages/matplotlib/pyplot.py'>"
      ]
     },
     "execution_count": 178,
     "metadata": {},
     "output_type": "execute_result"
    },
    {
     "data": {
      "image/png": "[encoded data removed]",
      "text/plain": [
       "<Figure size 432x288 with 1 Axes>"
      ]
     },
     "metadata": {},
     "output_type": "display_data"
    }
   ],
   "source": [
    "predictions = best_logit.predict(features_val)\n",
    "getReport(predictions, 'val')\n",
    "plotROC(best_logit, 'val')"
   ]
  },
  {
   "cell_type": "code",
   "execution_count": 179,
   "metadata": {},
   "outputs": [
    {
     "name": "stdout",
     "output_type": "stream",
     "text": [
      "Balanced_Accuracy: 0.7933130699088147\n",
      "              precision    recall  f1-score   support\n",
      "\n",
      "           0       0.84      0.87      0.85        47\n",
      "           1       0.77      0.71      0.74        28\n",
      "\n",
      "   micro avg       0.81      0.81      0.81        75\n",
      "   macro avg       0.80      0.79      0.80        75\n",
      "weighted avg       0.81      0.81      0.81        75\n",
      "\n"
     ]
    },
    {
     "data": {
      "text/plain": [
       "<module 'matplotlib.pyplot' from '/Users/Henry/miniconda3/lib/python3.6/site-packages/matplotlib/pyplot.py'>"
      ]
     },
     "execution_count": 179,
     "metadata": {},
     "output_type": "execute_result"
    },
    {
     "data": {
      "image/png": "[encoded data removed]",
      "text/plain": [
       "<Figure size 432x288 with 1 Axes>"
      ]
     },
     "metadata": {},
     "output_type": "display_data"
    }
   ],
   "source": [
    "predictions = best_logit.predict(features_test)\n",
    "getReport(predictions, 'test')\n",
    "plotROC(best_logit, 'test')"
   ]
  },
  {
   "cell_type": "markdown",
   "metadata": {},
   "source": [
    "### Random Forest"
   ]
  },
  {
   "cell_type": "code",
   "execution_count": null,
   "metadata": {},
   "outputs": [],
   "source": [
    "from sklearn.ensemble import RandomForestClassifier\n",
    "\n",
    "rf = RandomForestClassifier(random_state=0)\n",
    "\n",
    "num_trees = [10, 15, 20, 25, 30, 40, 50]\n",
    "criterion = ['gini']\n",
    "max_depth = [10, 20, 30]\n",
    "min_samples_leaf = [1,2,3,4]\n",
    "min_samples_split = [1,2,3,4]\n",
    "\n",
    "params_rf = {'n_estimators': num_trees, 'criterion': criterion, 'max_depth': max_depth}\n",
    "gs_rf = GridSearchCV(rf, params_rf, cv=10)\n",
    "\n",
    "gs_rf.fit(features_train, target_train)\n",
    "gs_rf.best_estimator_"
   ]
  },
  {
   "cell_type": "code",
   "execution_count": null,
   "metadata": {},
   "outputs": [],
   "source": [
    "predictions = gs_rf.predict(features_val)\n",
    "getReport(predictions, 'val')\n",
    "plotROC(gs_rf, 'val')"
   ]
  },
  {
   "cell_type": "code",
   "execution_count": null,
   "metadata": {},
   "outputs": [],
   "source": [
    "predictions = gs_rf.predict(features_test)\n",
    "getReport(predictions, 'test')\n",
    "plotROC(gs_rf, 'test')"
   ]
  },
  {
   "cell_type": "code",
   "execution_count": null,
   "metadata": {},
   "outputs": [],
   "source": []
  }
 ],
 "metadata": {
  "kernelspec": {
   "display_name": "Python 3",
   "language": "python",
   "name": "python3"
  },
  "language_info": {
   "codemirror_mode": {
    "name": "ipython",
    "version": 3
   },
   "file_extension": ".py",
   "mimetype": "text/x-python",
   "name": "python",
   "nbconvert_exporter": "python",
   "pygments_lexer": "ipython3",
   "version": "3.6.8"
  },
  "toc": {
   "base_numbering": 1,
   "nav_menu": {},
   "number_sections": false,
   "sideBar": false,
   "skip_h1_title": false,
   "title_cell": "Table of Contents",
   "title_sidebar": "Contents",
   "toc_cell": false,
   "toc_position": {},
   "toc_section_display": false,
   "toc_window_display": false
  }
 },
 "nbformat": 4,
 "nbformat_minor": 2
}
